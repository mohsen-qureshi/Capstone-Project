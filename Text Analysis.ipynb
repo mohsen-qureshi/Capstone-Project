{
 "cells": [
  {
   "cell_type": "code",
   "execution_count": 2,
   "metadata": {},
   "outputs": [],
   "source": [
    "import numpy as np\n",
    "import pandas as pd\n",
    "import os\n",
    "import json\n",
    "import csv\n",
    "import wordcloud\n",
    "import collections\n",
    "from collections import Counter\n",
    "from wordcloud import WordCloud\n",
    "import matplotlib as mpl\n",
    "import matplotlib.pyplot as plt\n",
    "import seaborn as sns\n",
    "import spacy\n",
    "import scattertext\n",
    "#import missingno as msno\n",
    "from sklearn.decomposition import PCA\n",
    "from sklearn.cluster import KMeans"
   ]
  },
  {
   "cell_type": "code",
   "execution_count": 3,
   "metadata": {},
   "outputs": [
    {
     "name": "stdout",
     "output_type": "stream",
     "text": [
      "D:\\My Documents\\Ryerson\\CIND820++\\yelpds\n"
     ]
    }
   ],
   "source": [
    "os.chdir('D:\\\\My Documents\\\\Ryerson\\\\CIND820++\\\\yelpds')\n",
    "cwd = os.getcwd()\n",
    "print(cwd)"
   ]
  },
  {
   "cell_type": "code",
   "execution_count": 4,
   "metadata": {},
   "outputs": [],
   "source": [
    "mergedDF = pd.read_csv(\"MergedDF.csv\")"
   ]
  },
  {
   "cell_type": "code",
   "execution_count": 3,
   "metadata": {},
   "outputs": [],
   "source": [
    "reviewDF = pd.read_csv(\"reviewDF.csv\")"
   ]
  },
  {
   "cell_type": "code",
   "execution_count": 7,
   "metadata": {},
   "outputs": [
    {
     "data": {
      "text/plain": [
       "<matplotlib.axes._subplots.AxesSubplot at 0x215536df148>"
      ]
     },
     "execution_count": 7,
     "metadata": {},
     "output_type": "execute_result"
    },
    {
     "data": {
      "image/png": "[encoded data removed]",
      "text/plain": [
       "<Figure size 432x288 with 1 Axes>"
      ]
     },
     "metadata": {
      "needs_background": "light"
     },
     "output_type": "display_data"
    }
   ],
   "source": [
    "sns.distplot(mergedDF[\"reviews_stars\"])"
   ]
  },
  {
   "cell_type": "code",
   "execution_count": 4,
   "metadata": {},
   "outputs": [
    {
     "data": {
      "image/png": "[encoded data removed]",
      "text/plain": [
       "<Figure size 864x432 with 1 Axes>"
      ]
     },
     "metadata": {
      "needs_background": "light"
     },
     "output_type": "display_data"
    }
   ],
   "source": [
    "# Just looking at the number of reviews per star rating. \n",
    "# The highest number of reviews are for 4.5 and 4.0 ratings. \n",
    "# That gives us an idae of how most people write reviews when they have good things to say. \n",
    "\n",
    "plt.figure(figsize=(12,6))\n",
    "\n",
    "sns.scatterplot(mergedDF['review_count'],mergedDF['business_stars'])\n",
    "plt.title('Review Count vs Business stars')\n",
    "plt.xlabel('Review Count')\n",
    "plt.ylabel('Stars Rating')\n",
    "plt.show()"
   ]
  },
  {
   "cell_type": "code",
   "execution_count": 9,
   "metadata": {},
   "outputs": [],
   "source": [
    "# I am adding a column that shows whether the ratings are \"low\", \"avg\", or \"high\". \n",
    "\n",
    "mergedDF['rating'] = mergedDF['reviews_stars'].replace(\n",
    "               {1:'Low Rating', 2:'Low Rating', 3:'Avg Rating',\n",
    "                4:'High Rating', 5:'High Rating'})"
   ]
  },
  {
   "cell_type": "code",
   "execution_count": 28,
   "metadata": {},
   "outputs": [],
   "source": [
    "# I want to look at only shopping category businesses right now, just to start off with a small subset. \n",
    "\n",
    "merged_shopping = mergedDF[mergedDF['categories'].str.contains('Shopping', na=False)]"
   ]
  },
  {
   "cell_type": "code",
   "execution_count": 29,
   "metadata": {},
   "outputs": [
    {
     "data": {
      "text/html": [
       "<div>\n",
       "<style scoped>\n",
       "    .dataframe tbody tr th:only-of-type {\n",
       "        vertical-align: middle;\n",
       "    }\n",
       "\n",
       "    .dataframe tbody tr th {\n",
       "        vertical-align: top;\n",
       "    }\n",
       "\n",
       "    .dataframe thead th {\n",
       "        text-align: right;\n",
       "    }\n",
       "</style>\n",
       "<table border=\"1\" class=\"dataframe\">\n",
       "  <thead>\n",
       "    <tr style=\"text-align: right;\">\n",
       "      <th></th>\n",
       "      <th>business_id</th>\n",
       "      <th>name</th>\n",
       "      <th>city</th>\n",
       "      <th>state</th>\n",
       "      <th>business_stars</th>\n",
       "      <th>review_count</th>\n",
       "      <th>attributes</th>\n",
       "      <th>categories</th>\n",
       "      <th>reviews_stars</th>\n",
       "      <th>useful</th>\n",
       "      <th>text</th>\n",
       "      <th>rating</th>\n",
       "    </tr>\n",
       "  </thead>\n",
       "  <tbody>\n",
       "    <tr>\n",
       "      <th>94</th>\n",
       "      <td>bvN78flM8NLprQ1a1y5dRg</td>\n",
       "      <td>The Reclaimory</td>\n",
       "      <td>Portland</td>\n",
       "      <td>OR</td>\n",
       "      <td>4.5</td>\n",
       "      <td>13</td>\n",
       "      <td>{'BusinessAcceptsCreditCards': 'True', 'Restau...</td>\n",
       "      <td>Antiques, Fashion, Used, Vintage &amp; Consignment...</td>\n",
       "      <td>5.0</td>\n",
       "      <td>1</td>\n",
       "      <td>I love the mid-century and vintage selection i...</td>\n",
       "      <td>High Rating</td>\n",
       "    </tr>\n",
       "    <tr>\n",
       "      <th>95</th>\n",
       "      <td>bvN78flM8NLprQ1a1y5dRg</td>\n",
       "      <td>The Reclaimory</td>\n",
       "      <td>Portland</td>\n",
       "      <td>OR</td>\n",
       "      <td>4.5</td>\n",
       "      <td>13</td>\n",
       "      <td>{'BusinessAcceptsCreditCards': 'True', 'Restau...</td>\n",
       "      <td>Antiques, Fashion, Used, Vintage &amp; Consignment...</td>\n",
       "      <td>4.0</td>\n",
       "      <td>0</td>\n",
       "      <td>Very small, niche sort of vintage shop. Go her...</td>\n",
       "      <td>High Rating</td>\n",
       "    </tr>\n",
       "    <tr>\n",
       "      <th>96</th>\n",
       "      <td>bvN78flM8NLprQ1a1y5dRg</td>\n",
       "      <td>The Reclaimory</td>\n",
       "      <td>Portland</td>\n",
       "      <td>OR</td>\n",
       "      <td>4.5</td>\n",
       "      <td>13</td>\n",
       "      <td>{'BusinessAcceptsCreditCards': 'True', 'Restau...</td>\n",
       "      <td>Antiques, Fashion, Used, Vintage &amp; Consignment...</td>\n",
       "      <td>5.0</td>\n",
       "      <td>0</td>\n",
       "      <td>One of the prettiest small specialties stores ...</td>\n",
       "      <td>High Rating</td>\n",
       "    </tr>\n",
       "    <tr>\n",
       "      <th>164</th>\n",
       "      <td>N3_Gs3DnX4k9SgpwJxdEfw</td>\n",
       "      <td>Lane Wells Jewelry Repair</td>\n",
       "      <td>Austin</td>\n",
       "      <td>TX</td>\n",
       "      <td>5.0</td>\n",
       "      <td>30</td>\n",
       "      <td>{'RestaurantsPriceRange2': '1', 'ByAppointment...</td>\n",
       "      <td>Shopping, Jewelry Repair, Appraisal Services, ...</td>\n",
       "      <td>5.0</td>\n",
       "      <td>0</td>\n",
       "      <td>I stopped in here today to inquire about fixin...</td>\n",
       "      <td>High Rating</td>\n",
       "    </tr>\n",
       "    <tr>\n",
       "      <th>165</th>\n",
       "      <td>N3_Gs3DnX4k9SgpwJxdEfw</td>\n",
       "      <td>Lane Wells Jewelry Repair</td>\n",
       "      <td>Austin</td>\n",
       "      <td>TX</td>\n",
       "      <td>5.0</td>\n",
       "      <td>30</td>\n",
       "      <td>{'RestaurantsPriceRange2': '1', 'ByAppointment...</td>\n",
       "      <td>Shopping, Jewelry Repair, Appraisal Services, ...</td>\n",
       "      <td>5.0</td>\n",
       "      <td>0</td>\n",
       "      <td>My necklace broke and I brought it in to get f...</td>\n",
       "      <td>High Rating</td>\n",
       "    </tr>\n",
       "  </tbody>\n",
       "</table>\n",
       "</div>"
      ],
      "text/plain": [
       "                business_id                       name      city state  \\\n",
       "94   bvN78flM8NLprQ1a1y5dRg             The Reclaimory  Portland    OR   \n",
       "95   bvN78flM8NLprQ1a1y5dRg             The Reclaimory  Portland    OR   \n",
       "96   bvN78flM8NLprQ1a1y5dRg             The Reclaimory  Portland    OR   \n",
       "164  N3_Gs3DnX4k9SgpwJxdEfw  Lane Wells Jewelry Repair    Austin    TX   \n",
       "165  N3_Gs3DnX4k9SgpwJxdEfw  Lane Wells Jewelry Repair    Austin    TX   \n",
       "\n",
       "     business_stars  review_count  \\\n",
       "94              4.5            13   \n",
       "95              4.5            13   \n",
       "96              4.5            13   \n",
       "164             5.0            30   \n",
       "165             5.0            30   \n",
       "\n",
       "                                            attributes  \\\n",
       "94   {'BusinessAcceptsCreditCards': 'True', 'Restau...   \n",
       "95   {'BusinessAcceptsCreditCards': 'True', 'Restau...   \n",
       "96   {'BusinessAcceptsCreditCards': 'True', 'Restau...   \n",
       "164  {'RestaurantsPriceRange2': '1', 'ByAppointment...   \n",
       "165  {'RestaurantsPriceRange2': '1', 'ByAppointment...   \n",
       "\n",
       "                                            categories  reviews_stars  useful  \\\n",
       "94   Antiques, Fashion, Used, Vintage & Consignment...            5.0       1   \n",
       "95   Antiques, Fashion, Used, Vintage & Consignment...            4.0       0   \n",
       "96   Antiques, Fashion, Used, Vintage & Consignment...            5.0       0   \n",
       "164  Shopping, Jewelry Repair, Appraisal Services, ...            5.0       0   \n",
       "165  Shopping, Jewelry Repair, Appraisal Services, ...            5.0       0   \n",
       "\n",
       "                                                  text       rating  \n",
       "94   I love the mid-century and vintage selection i...  High Rating  \n",
       "95   Very small, niche sort of vintage shop. Go her...  High Rating  \n",
       "96   One of the prettiest small specialties stores ...  High Rating  \n",
       "164  I stopped in here today to inquire about fixin...  High Rating  \n",
       "165  My necklace broke and I brought it in to get f...  High Rating  "
      ]
     },
     "execution_count": 29,
     "metadata": {},
     "output_type": "execute_result"
    }
   ],
   "source": [
    "merged_shopping.head()"
   ]
  },
  {
   "cell_type": "code",
   "execution_count": 30,
   "metadata": {},
   "outputs": [
    {
     "data": {
      "text/plain": [
       "business_id       195865\n",
       "name              195865\n",
       "city              195865\n",
       "state             195865\n",
       "business_stars    195865\n",
       "review_count      195865\n",
       "attributes        192535\n",
       "categories        195865\n",
       "reviews_stars     195865\n",
       "useful            195865\n",
       "text              195865\n",
       "rating            195865\n",
       "dtype: int64"
      ]
     },
     "execution_count": 30,
     "metadata": {},
     "output_type": "execute_result"
    }
   ],
   "source": [
    "merged_shopping.count()"
   ]
  },
  {
   "cell_type": "code",
   "execution_count": 16,
   "metadata": {},
   "outputs": [],
   "source": [
    "nlp = spacy.load('en_core_web_sm')"
   ]
  },
  {
   "cell_type": "code",
   "execution_count": 22,
   "metadata": {},
   "outputs": [],
   "source": [
    "# I want to be able to look at the count of words most frequently showing up \n",
    "# in the shopping dataset reviews. So I here I will try to break down the dataset\n",
    "# and count the most frequently used words in the text reviews. \n",
    "# I could not run at the moment as it keeps timing out. I need to figure out a solution. \n",
    "\n",
    "def term_freq(merged_shopping):\n",
    "    corpus = (scattertext.CorpusFromPandas(merged_shopping,\n",
    "                                           category_col='rating', \n",
    "                                           text_col='text',\n",
    "                                           nlp=nlp)\n",
    "              .build()\n",
    "              .remove_terms(nlp.Defaults.stop_words, ignore_absences=True)\n",
    "              )\n",
    "    df = corpus.get_term_freq_df()\n",
    "    df['High_Rating_Score'] = corpus.get_scaled_f_scores('High Rating')\n",
    "    df['Low_Rating_Score'] = corpus.get_scaled_f_scores('Low Rating')\n",
    "    df['High_Rating_Score'] = round(df['High_Rating_Score'], 2)\n",
    "    df['Low_Rating_Score'] = round(df['Low_Rating_Score'], 2)\n",
    "    \n",
    "    df_high = df.sort_values(by='High Rating freq', \n",
    "                             ascending = False).reset_index()\n",
    "    df_low = df.sort_values(by='Low Rating freq', \n",
    "                            ascending=False).reset_index()\n",
    "    return df_high, df_low"
   ]
  },
  {
   "cell_type": "code",
   "execution_count": null,
   "metadata": {},
   "outputs": [],
   "source": [
    "shop_high, shop_low = term_freq(merged_shopping)"
   ]
  },
  {
   "cell_type": "code",
   "execution_count": null,
   "metadata": {},
   "outputs": [],
   "source": []
  },
  {
   "cell_type": "markdown",
   "metadata": {},
   "source": [
    "***"
   ]
  },
  {
   "cell_type": "code",
   "execution_count": 1,
   "metadata": {},
   "outputs": [],
   "source": [
    "# Below, I really tried to count the most frequent words occurring in the text reviews. \n",
    "# However I was not able to complete this. It keeps crashing my laptop's memory. \n",
    "# So I still need to figure out how to complete this task."
   ]
  },
  {
   "cell_type": "code",
   "execution_count": 6,
   "metadata": {},
   "outputs": [
    {
     "name": "stdout",
     "output_type": "stream",
     "text": [
      "[('Are you kidding me? Anything less than 5 stars is just proof that some folks can never be happy! It\\'s the \"Magic Kingdom\",.... buck up and get in there. Enjoy!', 39)]\n"
     ]
    }
   ],
   "source": [
    "count_words = Counter(reviewDF['text'])\n",
    "c = Counter(count_words.elements())\n",
    "print(c.most_common(1))"
   ]
  },
  {
   "cell_type": "code",
   "execution_count": null,
   "metadata": {},
   "outputs": [],
   "source": [
    "count_words = Counter(reviewDF['text'])\n",
    "c = Counter(\" \".join(count_words).split()).most_common(1)\n",
    "print(c)"
   ]
  },
  {
   "cell_type": "code",
   "execution_count": null,
   "metadata": {},
   "outputs": [],
   "source": []
  },
  {
   "cell_type": "code",
   "execution_count": null,
   "metadata": {},
   "outputs": [],
   "source": []
  },
  {
   "cell_type": "code",
   "execution_count": 7,
   "metadata": {},
   "outputs": [
    {
     "data": {
      "image/png": "[encoded data removed]",
      "text/plain": [
       "<Figure size 1152x288 with 1 Axes>"
      ]
     },
     "metadata": {
      "needs_background": "light"
     },
     "output_type": "display_data"
    }
   ],
   "source": [
    "# Get the distribution of the ratings per business\n",
    "\n",
    "\n",
    "x = mergedDF['name'].value_counts()\n",
    "x = x.sort_values(ascending=False)\n",
    "x = x.iloc[0:20]\n",
    "plt.figure(figsize=(16,4))\n",
    "ax = sns.barplot(x.index, x.values, alpha=0.8)\n",
    "plt.title(\"Which business has the most reviews?\")\n",
    "locs, labels = plt.xticks()\n",
    "plt.setp(labels, rotation=45)\n",
    "plt.ylabel('# reviews', fontsize=12)\n",
    "plt.xlabel('Business', fontsize=12)\n",
    "\n",
    "#adding the text labels\n",
    "rects = ax.patches\n",
    "labels = x.values\n",
    "for rect, label in zip(rects, labels):\n",
    "    height = rect.get_height()\n",
    "    ax.text(rect.get_x() + rect.get_width()/2, height + 5, label, ha='center', va='bottom')\n",
    "\n",
    "plt.show()"
   ]
  },
  {
   "cell_type": "code",
   "execution_count": null,
   "metadata": {},
   "outputs": [],
   "source": []
  },
  {
   "cell_type": "code",
   "execution_count": null,
   "metadata": {},
   "outputs": [],
   "source": []
  },
  {
   "cell_type": "code",
   "execution_count": null,
   "metadata": {},
   "outputs": [],
   "source": []
  },
  {
   "cell_type": "code",
   "execution_count": null,
   "metadata": {},
   "outputs": [],
   "source": []
  },
  {
   "cell_type": "code",
   "execution_count": null,
   "metadata": {},
   "outputs": [],
   "source": []
  },
  {
   "cell_type": "code",
   "execution_count": null,
   "metadata": {},
   "outputs": [],
   "source": []
  }
 ],
 "metadata": {
  "kernelspec": {
   "display_name": "Python 3",
   "language": "python",
   "name": "python3"
  },
  "language_info": {
   "codemirror_mode": {
    "name": "ipython",
    "version": 3
   },
   "file_extension": ".py",
   "mimetype": "text/x-python",
   "name": "python",
   "nbconvert_exporter": "python",
   "pygments_lexer": "ipython3",
   "version": "3.7.6"
  }
 },
 "nbformat": 4,
 "nbformat_minor": 4
}
