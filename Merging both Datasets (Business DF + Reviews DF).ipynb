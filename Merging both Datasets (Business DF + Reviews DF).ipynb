{
 "cells": [
  {
   "cell_type": "code",
   "execution_count": 1,
   "metadata": {},
   "outputs": [],
   "source": [
    "import numpy as np\n",
    "import pandas as pd\n",
    "import os\n",
    "import json\n",
    "import matplotlib as mpl\n",
    "import matplotlib.pyplot as plt\n",
    "import seaborn as sns\n",
    "#import missingno as msno\n",
    "from sklearn.decomposition import PCA\n",
    "from sklearn.cluster import KMeans"
   ]
  },
  {
   "cell_type": "code",
   "execution_count": 2,
   "metadata": {},
   "outputs": [
    {
     "name": "stdout",
     "output_type": "stream",
     "text": [
      "D:\\My Documents\\Ryerson\\CIND820++\\yelpds\n"
     ]
    }
   ],
   "source": [
    "os.chdir('D:\\\\My Documents\\\\Ryerson\\\\CIND820++\\\\yelpds')\n",
    "cwd = os.getcwd()\n",
    "print(cwd)"
   ]
  },
  {
   "cell_type": "code",
   "execution_count": 3,
   "metadata": {},
   "outputs": [],
   "source": [
    "businessCSV = pd.read_csv('BusinessDF.csv')"
   ]
  },
  {
   "cell_type": "code",
   "execution_count": 4,
   "metadata": {},
   "outputs": [],
   "source": [
    "reviewCSV = pd.read_csv('reviewDF.csv')"
   ]
  },
  {
   "cell_type": "code",
   "execution_count": null,
   "metadata": {},
   "outputs": [],
   "source": []
  },
  {
   "cell_type": "code",
   "execution_count": 8,
   "metadata": {},
   "outputs": [],
   "source": [
    "#rename review col \"stars\"\n",
    "\n",
    "reviewCSV.rename(columns=({\"stars\":\"reviews_stars\"}), inplace=True)\n",
    "reviewCSV.to_csv(\"ReviewDF.csv\", index=False)"
   ]
  },
  {
   "cell_type": "code",
   "execution_count": 7,
   "metadata": {},
   "outputs": [],
   "source": [
    "#rename business col \"stars\" as well\n",
    "\n",
    "businessCSV.rename(columns=({\"stars\":\"business_stars\"}), inplace=True)\n",
    "businessCSV.to_csv(\"BusinessDF.csv\", index=False)"
   ]
  },
  {
   "cell_type": "markdown",
   "metadata": {},
   "source": [
    "### Both files have been read in here as csv. \n",
    "### Now I'll merge them"
   ]
  },
  {
   "cell_type": "code",
   "execution_count": 9,
   "metadata": {},
   "outputs": [],
   "source": [
    "# using merge function by setting how='inner'\n",
    "\n",
    "output1 = pd.merge(businessCSV, reviewCSV, \n",
    "                   on='business_id', \n",
    "                   how='inner')\n",
    "  \n",
    "output1.to_csv(\"MergedDF.csv\", index=False)"
   ]
  },
  {
   "cell_type": "code",
   "execution_count": 10,
   "metadata": {},
   "outputs": [],
   "source": [
    "mergedDF = pd.read_csv(\"MergedDF.csv\")"
   ]
  },
  {
   "cell_type": "code",
   "execution_count": 11,
   "metadata": {},
   "outputs": [
    {
     "data": {
      "text/html": [
       "<div>\n",
       "<style scoped>\n",
       "    .dataframe tbody tr th:only-of-type {\n",
       "        vertical-align: middle;\n",
       "    }\n",
       "\n",
       "    .dataframe tbody tr th {\n",
       "        vertical-align: top;\n",
       "    }\n",
       "\n",
       "    .dataframe thead th {\n",
       "        text-align: right;\n",
       "    }\n",
       "</style>\n",
       "<table border=\"1\" class=\"dataframe\">\n",
       "  <thead>\n",
       "    <tr style=\"text-align: right;\">\n",
       "      <th></th>\n",
       "      <th>business_id</th>\n",
       "      <th>name</th>\n",
       "      <th>city</th>\n",
       "      <th>state</th>\n",
       "      <th>business_stars</th>\n",
       "      <th>review_count</th>\n",
       "      <th>attributes</th>\n",
       "      <th>categories</th>\n",
       "      <th>reviews_stars</th>\n",
       "      <th>useful</th>\n",
       "      <th>text</th>\n",
       "    </tr>\n",
       "  </thead>\n",
       "  <tbody>\n",
       "    <tr>\n",
       "      <th>0</th>\n",
       "      <td>6iYb2HFDywm3zjuRg0shjw</td>\n",
       "      <td>Oskar Blues Taproom</td>\n",
       "      <td>Boulder</td>\n",
       "      <td>CO</td>\n",
       "      <td>4.0</td>\n",
       "      <td>86</td>\n",
       "      <td>{'RestaurantsTableService': 'True', 'WiFi': \"u...</td>\n",
       "      <td>Gastropubs, Food, Beer Gardens, Restaurants, B...</td>\n",
       "      <td>5.0</td>\n",
       "      <td>1</td>\n",
       "      <td>Stopped in on a busy Friday night. Despite the...</td>\n",
       "    </tr>\n",
       "    <tr>\n",
       "      <th>1</th>\n",
       "      <td>6iYb2HFDywm3zjuRg0shjw</td>\n",
       "      <td>Oskar Blues Taproom</td>\n",
       "      <td>Boulder</td>\n",
       "      <td>CO</td>\n",
       "      <td>4.0</td>\n",
       "      <td>86</td>\n",
       "      <td>{'RestaurantsTableService': 'True', 'WiFi': \"u...</td>\n",
       "      <td>Gastropubs, Food, Beer Gardens, Restaurants, B...</td>\n",
       "      <td>2.0</td>\n",
       "      <td>0</td>\n",
       "      <td>Went there about 1 PM on a Monday.  It wasn't ...</td>\n",
       "    </tr>\n",
       "    <tr>\n",
       "      <th>2</th>\n",
       "      <td>6iYb2HFDywm3zjuRg0shjw</td>\n",
       "      <td>Oskar Blues Taproom</td>\n",
       "      <td>Boulder</td>\n",
       "      <td>CO</td>\n",
       "      <td>4.0</td>\n",
       "      <td>86</td>\n",
       "      <td>{'RestaurantsTableService': 'True', 'WiFi': \"u...</td>\n",
       "      <td>Gastropubs, Food, Beer Gardens, Restaurants, B...</td>\n",
       "      <td>5.0</td>\n",
       "      <td>0</td>\n",
       "      <td>This was the place the be on Friday Night! If ...</td>\n",
       "    </tr>\n",
       "    <tr>\n",
       "      <th>3</th>\n",
       "      <td>6iYb2HFDywm3zjuRg0shjw</td>\n",
       "      <td>Oskar Blues Taproom</td>\n",
       "      <td>Boulder</td>\n",
       "      <td>CO</td>\n",
       "      <td>4.0</td>\n",
       "      <td>86</td>\n",
       "      <td>{'RestaurantsTableService': 'True', 'WiFi': \"u...</td>\n",
       "      <td>Gastropubs, Food, Beer Gardens, Restaurants, B...</td>\n",
       "      <td>4.0</td>\n",
       "      <td>0</td>\n",
       "      <td>Went to this place with my family over the wee...</td>\n",
       "    </tr>\n",
       "    <tr>\n",
       "      <th>4</th>\n",
       "      <td>6iYb2HFDywm3zjuRg0shjw</td>\n",
       "      <td>Oskar Blues Taproom</td>\n",
       "      <td>Boulder</td>\n",
       "      <td>CO</td>\n",
       "      <td>4.0</td>\n",
       "      <td>86</td>\n",
       "      <td>{'RestaurantsTableService': 'True', 'WiFi': \"u...</td>\n",
       "      <td>Gastropubs, Food, Beer Gardens, Restaurants, B...</td>\n",
       "      <td>4.0</td>\n",
       "      <td>0</td>\n",
       "      <td>Stopped on a midweek afternoon, and so glad th...</td>\n",
       "    </tr>\n",
       "  </tbody>\n",
       "</table>\n",
       "</div>"
      ],
      "text/plain": [
       "              business_id                 name     city state  business_stars  \\\n",
       "0  6iYb2HFDywm3zjuRg0shjw  Oskar Blues Taproom  Boulder    CO             4.0   \n",
       "1  6iYb2HFDywm3zjuRg0shjw  Oskar Blues Taproom  Boulder    CO             4.0   \n",
       "2  6iYb2HFDywm3zjuRg0shjw  Oskar Blues Taproom  Boulder    CO             4.0   \n",
       "3  6iYb2HFDywm3zjuRg0shjw  Oskar Blues Taproom  Boulder    CO             4.0   \n",
       "4  6iYb2HFDywm3zjuRg0shjw  Oskar Blues Taproom  Boulder    CO             4.0   \n",
       "\n",
       "   review_count                                         attributes  \\\n",
       "0            86  {'RestaurantsTableService': 'True', 'WiFi': \"u...   \n",
       "1            86  {'RestaurantsTableService': 'True', 'WiFi': \"u...   \n",
       "2            86  {'RestaurantsTableService': 'True', 'WiFi': \"u...   \n",
       "3            86  {'RestaurantsTableService': 'True', 'WiFi': \"u...   \n",
       "4            86  {'RestaurantsTableService': 'True', 'WiFi': \"u...   \n",
       "\n",
       "                                          categories  reviews_stars  useful  \\\n",
       "0  Gastropubs, Food, Beer Gardens, Restaurants, B...            5.0       1   \n",
       "1  Gastropubs, Food, Beer Gardens, Restaurants, B...            2.0       0   \n",
       "2  Gastropubs, Food, Beer Gardens, Restaurants, B...            5.0       0   \n",
       "3  Gastropubs, Food, Beer Gardens, Restaurants, B...            4.0       0   \n",
       "4  Gastropubs, Food, Beer Gardens, Restaurants, B...            4.0       0   \n",
       "\n",
       "                                                text  \n",
       "0  Stopped in on a busy Friday night. Despite the...  \n",
       "1  Went there about 1 PM on a Monday.  It wasn't ...  \n",
       "2  This was the place the be on Friday Night! If ...  \n",
       "3  Went to this place with my family over the wee...  \n",
       "4  Stopped on a midweek afternoon, and so glad th...  "
      ]
     },
     "execution_count": 11,
     "metadata": {},
     "output_type": "execute_result"
    }
   ],
   "source": [
    "mergedDF.head()"
   ]
  },
  {
   "cell_type": "code",
   "execution_count": 12,
   "metadata": {},
   "outputs": [
    {
     "data": {
      "text/html": [
       "<div>\n",
       "<style scoped>\n",
       "    .dataframe tbody tr th:only-of-type {\n",
       "        vertical-align: middle;\n",
       "    }\n",
       "\n",
       "    .dataframe tbody tr th {\n",
       "        vertical-align: top;\n",
       "    }\n",
       "\n",
       "    .dataframe thead th {\n",
       "        text-align: right;\n",
       "    }\n",
       "</style>\n",
       "<table border=\"1\" class=\"dataframe\">\n",
       "  <thead>\n",
       "    <tr style=\"text-align: right;\">\n",
       "      <th></th>\n",
       "      <th>business_stars</th>\n",
       "      <th>review_count</th>\n",
       "      <th>reviews_stars</th>\n",
       "      <th>useful</th>\n",
       "    </tr>\n",
       "  </thead>\n",
       "  <tbody>\n",
       "    <tr>\n",
       "      <th>count</th>\n",
       "      <td>2.618511e+06</td>\n",
       "      <td>2.618511e+06</td>\n",
       "      <td>2.618511e+06</td>\n",
       "      <td>2.618511e+06</td>\n",
       "    </tr>\n",
       "    <tr>\n",
       "      <th>mean</th>\n",
       "      <td>3.809849e+00</td>\n",
       "      <td>3.483745e+02</td>\n",
       "      <td>3.768980e+00</td>\n",
       "      <td>8.943560e-01</td>\n",
       "    </tr>\n",
       "    <tr>\n",
       "      <th>std</th>\n",
       "      <td>7.675753e-01</td>\n",
       "      <td>6.633345e+02</td>\n",
       "      <td>1.547977e+00</td>\n",
       "      <td>3.225354e+00</td>\n",
       "    </tr>\n",
       "    <tr>\n",
       "      <th>min</th>\n",
       "      <td>1.000000e+00</td>\n",
       "      <td>5.000000e+00</td>\n",
       "      <td>1.000000e+00</td>\n",
       "      <td>0.000000e+00</td>\n",
       "    </tr>\n",
       "    <tr>\n",
       "      <th>25%</th>\n",
       "      <td>3.500000e+00</td>\n",
       "      <td>4.700000e+01</td>\n",
       "      <td>3.000000e+00</td>\n",
       "      <td>0.000000e+00</td>\n",
       "    </tr>\n",
       "    <tr>\n",
       "      <th>50%</th>\n",
       "      <td>4.000000e+00</td>\n",
       "      <td>1.420000e+02</td>\n",
       "      <td>5.000000e+00</td>\n",
       "      <td>0.000000e+00</td>\n",
       "    </tr>\n",
       "    <tr>\n",
       "      <th>75%</th>\n",
       "      <td>4.500000e+00</td>\n",
       "      <td>3.720000e+02</td>\n",
       "      <td>5.000000e+00</td>\n",
       "      <td>1.000000e+00</td>\n",
       "    </tr>\n",
       "    <tr>\n",
       "      <th>max</th>\n",
       "      <td>5.000000e+00</td>\n",
       "      <td>9.185000e+03</td>\n",
       "      <td>5.000000e+00</td>\n",
       "      <td>4.460000e+02</td>\n",
       "    </tr>\n",
       "  </tbody>\n",
       "</table>\n",
       "</div>"
      ],
      "text/plain": [
       "       business_stars  review_count  reviews_stars        useful\n",
       "count    2.618511e+06  2.618511e+06   2.618511e+06  2.618511e+06\n",
       "mean     3.809849e+00  3.483745e+02   3.768980e+00  8.943560e-01\n",
       "std      7.675753e-01  6.633345e+02   1.547977e+00  3.225354e+00\n",
       "min      1.000000e+00  5.000000e+00   1.000000e+00  0.000000e+00\n",
       "25%      3.500000e+00  4.700000e+01   3.000000e+00  0.000000e+00\n",
       "50%      4.000000e+00  1.420000e+02   5.000000e+00  0.000000e+00\n",
       "75%      4.500000e+00  3.720000e+02   5.000000e+00  1.000000e+00\n",
       "max      5.000000e+00  9.185000e+03   5.000000e+00  4.460000e+02"
      ]
     },
     "execution_count": 12,
     "metadata": {},
     "output_type": "execute_result"
    }
   ],
   "source": [
    "mergedDF.describe()"
   ]
  },
  {
   "cell_type": "code",
   "execution_count": null,
   "metadata": {},
   "outputs": [],
   "source": []
  },
  {
   "cell_type": "code",
   "execution_count": null,
   "metadata": {},
   "outputs": [],
   "source": []
  },
  {
   "cell_type": "code",
   "execution_count": null,
   "metadata": {},
   "outputs": [],
   "source": []
  }
 ],
 "metadata": {
  "kernelspec": {
   "display_name": "Python 3",
   "language": "python",
   "name": "python3"
  },
  "language_info": {
   "codemirror_mode": {
    "name": "ipython",
    "version": 3
   },
   "file_extension": ".py",
   "mimetype": "text/x-python",
   "name": "python",
   "nbconvert_exporter": "python",
   "pygments_lexer": "ipython3",
   "version": "3.7.6"
  }
 },
 "nbformat": 4,
 "nbformat_minor": 4
}
