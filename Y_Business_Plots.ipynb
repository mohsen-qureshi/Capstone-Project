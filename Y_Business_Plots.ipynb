{
 "cells": [
  {
   "cell_type": "code",
   "execution_count": 1,
   "metadata": {},
   "outputs": [],
   "source": [
    "import numpy as np\n",
    "import pandas as pd\n",
    "import os\n",
    "import json\n",
    "import matplotlib as mpl\n",
    "import matplotlib.pyplot as plt\n",
    "import seaborn as sns\n",
    "#import missingno as msno\n",
    "from sklearn.decomposition import PCA\n",
    "from sklearn.cluster import KMeans\n",
    "#%matplotlib inline\n",
    "#inline_rc = dict(mpl.rcParams)"
   ]
  },
  {
   "cell_type": "code",
   "execution_count": 2,
   "metadata": {},
   "outputs": [
    {
     "name": "stdout",
     "output_type": "stream",
     "text": [
      "D:\\My Documents\\Ryerson\\CIND820++\\yelpds\n"
     ]
    }
   ],
   "source": [
    "os.chdir('D:\\\\My Documents\\\\Ryerson\\\\CIND820++\\\\yelpds')\n",
    "cwd = os.getcwd()\n",
    "print(cwd)"
   ]
  },
  {
   "cell_type": "code",
   "execution_count": 4,
   "metadata": {},
   "outputs": [
    {
     "data": {
      "text/html": [
       "<div>\n",
       "<style scoped>\n",
       "    .dataframe tbody tr th:only-of-type {\n",
       "        vertical-align: middle;\n",
       "    }\n",
       "\n",
       "    .dataframe tbody tr th {\n",
       "        vertical-align: top;\n",
       "    }\n",
       "\n",
       "    .dataframe thead th {\n",
       "        text-align: right;\n",
       "    }\n",
       "</style>\n",
       "<table border=\"1\" class=\"dataframe\">\n",
       "  <thead>\n",
       "    <tr style=\"text-align: right;\">\n",
       "      <th></th>\n",
       "      <th>business_id</th>\n",
       "      <th>name</th>\n",
       "      <th>address</th>\n",
       "      <th>city</th>\n",
       "      <th>state</th>\n",
       "      <th>postal_code</th>\n",
       "      <th>latitude</th>\n",
       "      <th>longitude</th>\n",
       "      <th>stars</th>\n",
       "      <th>review_count</th>\n",
       "      <th>is_open</th>\n",
       "      <th>attributes</th>\n",
       "      <th>categories</th>\n",
       "      <th>hours</th>\n",
       "    </tr>\n",
       "  </thead>\n",
       "  <tbody>\n",
       "    <tr>\n",
       "      <th>0</th>\n",
       "      <td>6iYb2HFDywm3zjuRg0shjw</td>\n",
       "      <td>Oskar Blues Taproom</td>\n",
       "      <td>921 Pearl St</td>\n",
       "      <td>Boulder</td>\n",
       "      <td>CO</td>\n",
       "      <td>80302</td>\n",
       "      <td>40.017544</td>\n",
       "      <td>-105.283348</td>\n",
       "      <td>4.0</td>\n",
       "      <td>86</td>\n",
       "      <td>1</td>\n",
       "      <td>{'RestaurantsTableService': 'True', 'WiFi': 'u...</td>\n",
       "      <td>Gastropubs, Food, Beer Gardens, Restaurants, B...</td>\n",
       "      <td>{'Monday': '11:0-23:0', 'Tuesday': '11:0-23:0'...</td>\n",
       "    </tr>\n",
       "    <tr>\n",
       "      <th>1</th>\n",
       "      <td>tCbdrRPZA0oiIYSmHG3J0w</td>\n",
       "      <td>Flying Elephants at PDX</td>\n",
       "      <td>7000 NE Airport Way</td>\n",
       "      <td>Portland</td>\n",
       "      <td>OR</td>\n",
       "      <td>97218</td>\n",
       "      <td>45.588906</td>\n",
       "      <td>-122.593331</td>\n",
       "      <td>4.0</td>\n",
       "      <td>126</td>\n",
       "      <td>1</td>\n",
       "      <td>{'RestaurantsTakeOut': 'True', 'RestaurantsAtt...</td>\n",
       "      <td>Salad, Soup, Sandwiches, Delis, Restaurants, C...</td>\n",
       "      <td>{'Monday': '5:0-18:0', 'Tuesday': '5:0-17:0', ...</td>\n",
       "    </tr>\n",
       "    <tr>\n",
       "      <th>2</th>\n",
       "      <td>bvN78flM8NLprQ1a1y5dRg</td>\n",
       "      <td>The Reclaimory</td>\n",
       "      <td>4720 Hawthorne Ave</td>\n",
       "      <td>Portland</td>\n",
       "      <td>OR</td>\n",
       "      <td>97214</td>\n",
       "      <td>45.511907</td>\n",
       "      <td>-122.613693</td>\n",
       "      <td>4.5</td>\n",
       "      <td>13</td>\n",
       "      <td>1</td>\n",
       "      <td>{'BusinessAcceptsCreditCards': 'True', 'Restau...</td>\n",
       "      <td>Antiques, Fashion, Used, Vintage &amp; Consignment...</td>\n",
       "      <td>{'Thursday': '11:0-18:0', 'Friday': '11:0-18:0...</td>\n",
       "    </tr>\n",
       "    <tr>\n",
       "      <th>3</th>\n",
       "      <td>oaepsyvc0J17qwi8cfrOWg</td>\n",
       "      <td>Great Clips</td>\n",
       "      <td>2566 Enterprise Rd</td>\n",
       "      <td>Orange City</td>\n",
       "      <td>FL</td>\n",
       "      <td>32763</td>\n",
       "      <td>28.914482</td>\n",
       "      <td>-81.295979</td>\n",
       "      <td>3.0</td>\n",
       "      <td>8</td>\n",
       "      <td>1</td>\n",
       "      <td>{'RestaurantsPriceRange2': '1', 'BusinessAccep...</td>\n",
       "      <td>Beauty &amp; Spas, Hair Salons</td>\n",
       "      <td>None</td>\n",
       "    </tr>\n",
       "    <tr>\n",
       "      <th>4</th>\n",
       "      <td>PE9uqAjdw0E4-8mjGl3wVA</td>\n",
       "      <td>Crossfit Terminus</td>\n",
       "      <td>1046 Memorial Dr SE</td>\n",
       "      <td>Atlanta</td>\n",
       "      <td>GA</td>\n",
       "      <td>30316</td>\n",
       "      <td>33.747027</td>\n",
       "      <td>-84.353424</td>\n",
       "      <td>4.0</td>\n",
       "      <td>14</td>\n",
       "      <td>1</td>\n",
       "      <td>{'GoodForKids': 'False', 'BusinessParking': '{...</td>\n",
       "      <td>Gyms, Active Life, Interval Training Gyms, Fit...</td>\n",
       "      <td>{'Monday': '16:0-19:0', 'Tuesday': '16:0-19:0'...</td>\n",
       "    </tr>\n",
       "  </tbody>\n",
       "</table>\n",
       "</div>"
      ],
      "text/plain": [
       "              business_id                     name              address  \\\n",
       "0  6iYb2HFDywm3zjuRg0shjw      Oskar Blues Taproom         921 Pearl St   \n",
       "1  tCbdrRPZA0oiIYSmHG3J0w  Flying Elephants at PDX  7000 NE Airport Way   \n",
       "2  bvN78flM8NLprQ1a1y5dRg           The Reclaimory   4720 Hawthorne Ave   \n",
       "3  oaepsyvc0J17qwi8cfrOWg              Great Clips   2566 Enterprise Rd   \n",
       "4  PE9uqAjdw0E4-8mjGl3wVA        Crossfit Terminus  1046 Memorial Dr SE   \n",
       "\n",
       "          city state postal_code   latitude   longitude  stars  review_count  \\\n",
       "0      Boulder    CO       80302  40.017544 -105.283348    4.0            86   \n",
       "1     Portland    OR       97218  45.588906 -122.593331    4.0           126   \n",
       "2     Portland    OR       97214  45.511907 -122.613693    4.5            13   \n",
       "3  Orange City    FL       32763  28.914482  -81.295979    3.0             8   \n",
       "4      Atlanta    GA       30316  33.747027  -84.353424    4.0            14   \n",
       "\n",
       "   is_open                                         attributes  \\\n",
       "0        1  {'RestaurantsTableService': 'True', 'WiFi': 'u...   \n",
       "1        1  {'RestaurantsTakeOut': 'True', 'RestaurantsAtt...   \n",
       "2        1  {'BusinessAcceptsCreditCards': 'True', 'Restau...   \n",
       "3        1  {'RestaurantsPriceRange2': '1', 'BusinessAccep...   \n",
       "4        1  {'GoodForKids': 'False', 'BusinessParking': '{...   \n",
       "\n",
       "                                          categories  \\\n",
       "0  Gastropubs, Food, Beer Gardens, Restaurants, B...   \n",
       "1  Salad, Soup, Sandwiches, Delis, Restaurants, C...   \n",
       "2  Antiques, Fashion, Used, Vintage & Consignment...   \n",
       "3                         Beauty & Spas, Hair Salons   \n",
       "4  Gyms, Active Life, Interval Training Gyms, Fit...   \n",
       "\n",
       "                                               hours  \n",
       "0  {'Monday': '11:0-23:0', 'Tuesday': '11:0-23:0'...  \n",
       "1  {'Monday': '5:0-18:0', 'Tuesday': '5:0-17:0', ...  \n",
       "2  {'Thursday': '11:0-18:0', 'Friday': '11:0-18:0...  \n",
       "3                                               None  \n",
       "4  {'Monday': '16:0-19:0', 'Tuesday': '16:0-19:0'...  "
      ]
     },
     "execution_count": 4,
     "metadata": {},
     "output_type": "execute_result"
    }
   ],
   "source": [
    "business_json_path = \"yelp_academic_dataset_business.json\"\n",
    "businessDF = pd.read_json(business_json_path, lines=True)\n",
    "\n",
    "businessDF.head()"
   ]
  },
  {
   "cell_type": "code",
   "execution_count": 5,
   "metadata": {},
   "outputs": [],
   "source": [
    "businessDF = businessDF[businessDF['is_open']==1]"
   ]
  },
  {
   "cell_type": "code",
   "execution_count": 6,
   "metadata": {},
   "outputs": [
    {
     "data": {
      "text/html": [
       "<div>\n",
       "<style scoped>\n",
       "    .dataframe tbody tr th:only-of-type {\n",
       "        vertical-align: middle;\n",
       "    }\n",
       "\n",
       "    .dataframe tbody tr th {\n",
       "        vertical-align: top;\n",
       "    }\n",
       "\n",
       "    .dataframe thead th {\n",
       "        text-align: right;\n",
       "    }\n",
       "</style>\n",
       "<table border=\"1\" class=\"dataframe\">\n",
       "  <thead>\n",
       "    <tr style=\"text-align: right;\">\n",
       "      <th></th>\n",
       "      <th>business_id</th>\n",
       "      <th>name</th>\n",
       "      <th>city</th>\n",
       "      <th>state</th>\n",
       "      <th>stars</th>\n",
       "      <th>review_count</th>\n",
       "      <th>attributes</th>\n",
       "      <th>categories</th>\n",
       "    </tr>\n",
       "  </thead>\n",
       "  <tbody>\n",
       "    <tr>\n",
       "      <th>0</th>\n",
       "      <td>6iYb2HFDywm3zjuRg0shjw</td>\n",
       "      <td>Oskar Blues Taproom</td>\n",
       "      <td>Boulder</td>\n",
       "      <td>CO</td>\n",
       "      <td>4.0</td>\n",
       "      <td>86</td>\n",
       "      <td>{'RestaurantsTableService': 'True', 'WiFi': 'u...</td>\n",
       "      <td>Gastropubs, Food, Beer Gardens, Restaurants, B...</td>\n",
       "    </tr>\n",
       "    <tr>\n",
       "      <th>1</th>\n",
       "      <td>tCbdrRPZA0oiIYSmHG3J0w</td>\n",
       "      <td>Flying Elephants at PDX</td>\n",
       "      <td>Portland</td>\n",
       "      <td>OR</td>\n",
       "      <td>4.0</td>\n",
       "      <td>126</td>\n",
       "      <td>{'RestaurantsTakeOut': 'True', 'RestaurantsAtt...</td>\n",
       "      <td>Salad, Soup, Sandwiches, Delis, Restaurants, C...</td>\n",
       "    </tr>\n",
       "    <tr>\n",
       "      <th>2</th>\n",
       "      <td>bvN78flM8NLprQ1a1y5dRg</td>\n",
       "      <td>The Reclaimory</td>\n",
       "      <td>Portland</td>\n",
       "      <td>OR</td>\n",
       "      <td>4.5</td>\n",
       "      <td>13</td>\n",
       "      <td>{'BusinessAcceptsCreditCards': 'True', 'Restau...</td>\n",
       "      <td>Antiques, Fashion, Used, Vintage &amp; Consignment...</td>\n",
       "    </tr>\n",
       "    <tr>\n",
       "      <th>3</th>\n",
       "      <td>oaepsyvc0J17qwi8cfrOWg</td>\n",
       "      <td>Great Clips</td>\n",
       "      <td>Orange City</td>\n",
       "      <td>FL</td>\n",
       "      <td>3.0</td>\n",
       "      <td>8</td>\n",
       "      <td>{'RestaurantsPriceRange2': '1', 'BusinessAccep...</td>\n",
       "      <td>Beauty &amp; Spas, Hair Salons</td>\n",
       "    </tr>\n",
       "    <tr>\n",
       "      <th>4</th>\n",
       "      <td>PE9uqAjdw0E4-8mjGl3wVA</td>\n",
       "      <td>Crossfit Terminus</td>\n",
       "      <td>Atlanta</td>\n",
       "      <td>GA</td>\n",
       "      <td>4.0</td>\n",
       "      <td>14</td>\n",
       "      <td>{'GoodForKids': 'False', 'BusinessParking': '{...</td>\n",
       "      <td>Gyms, Active Life, Interval Training Gyms, Fit...</td>\n",
       "    </tr>\n",
       "  </tbody>\n",
       "</table>\n",
       "</div>"
      ],
      "text/plain": [
       "              business_id                     name         city state  stars  \\\n",
       "0  6iYb2HFDywm3zjuRg0shjw      Oskar Blues Taproom      Boulder    CO    4.0   \n",
       "1  tCbdrRPZA0oiIYSmHG3J0w  Flying Elephants at PDX     Portland    OR    4.0   \n",
       "2  bvN78flM8NLprQ1a1y5dRg           The Reclaimory     Portland    OR    4.5   \n",
       "3  oaepsyvc0J17qwi8cfrOWg              Great Clips  Orange City    FL    3.0   \n",
       "4  PE9uqAjdw0E4-8mjGl3wVA        Crossfit Terminus      Atlanta    GA    4.0   \n",
       "\n",
       "   review_count                                         attributes  \\\n",
       "0            86  {'RestaurantsTableService': 'True', 'WiFi': 'u...   \n",
       "1           126  {'RestaurantsTakeOut': 'True', 'RestaurantsAtt...   \n",
       "2            13  {'BusinessAcceptsCreditCards': 'True', 'Restau...   \n",
       "3             8  {'RestaurantsPriceRange2': '1', 'BusinessAccep...   \n",
       "4            14  {'GoodForKids': 'False', 'BusinessParking': '{...   \n",
       "\n",
       "                                          categories  \n",
       "0  Gastropubs, Food, Beer Gardens, Restaurants, B...  \n",
       "1  Salad, Soup, Sandwiches, Delis, Restaurants, C...  \n",
       "2  Antiques, Fashion, Used, Vintage & Consignment...  \n",
       "3                         Beauty & Spas, Hair Salons  \n",
       "4  Gyms, Active Life, Interval Training Gyms, Fit...  "
      ]
     },
     "execution_count": 6,
     "metadata": {},
     "output_type": "execute_result"
    }
   ],
   "source": [
    "businessDF = businessDF.drop(columns=[\"hours\", \"address\", \"is_open\", \"postal_code\", \"latitude\", \"longitude\"])\n",
    "\n",
    "businessDF.head()"
   ]
  },
  {
   "cell_type": "code",
   "execution_count": 7,
   "metadata": {},
   "outputs": [],
   "source": [
    "businessDF.to_csv(\"BusinessDF.csv\", index=False)"
   ]
  },
  {
   "cell_type": "code",
   "execution_count": 3,
   "metadata": {},
   "outputs": [],
   "source": [
    "businessCSV = pd.read_csv('BusinessDF.csv')"
   ]
  },
  {
   "cell_type": "code",
   "execution_count": 4,
   "metadata": {},
   "outputs": [
    {
     "data": {
      "text/html": [
       "<div>\n",
       "<style scoped>\n",
       "    .dataframe tbody tr th:only-of-type {\n",
       "        vertical-align: middle;\n",
       "    }\n",
       "\n",
       "    .dataframe tbody tr th {\n",
       "        vertical-align: top;\n",
       "    }\n",
       "\n",
       "    .dataframe thead th {\n",
       "        text-align: right;\n",
       "    }\n",
       "</style>\n",
       "<table border=\"1\" class=\"dataframe\">\n",
       "  <thead>\n",
       "    <tr style=\"text-align: right;\">\n",
       "      <th></th>\n",
       "      <th>business_id</th>\n",
       "      <th>name</th>\n",
       "      <th>city</th>\n",
       "      <th>state</th>\n",
       "      <th>stars</th>\n",
       "      <th>review_count</th>\n",
       "      <th>attributes</th>\n",
       "      <th>categories</th>\n",
       "    </tr>\n",
       "  </thead>\n",
       "  <tbody>\n",
       "    <tr>\n",
       "      <th>0</th>\n",
       "      <td>6iYb2HFDywm3zjuRg0shjw</td>\n",
       "      <td>Oskar Blues Taproom</td>\n",
       "      <td>Boulder</td>\n",
       "      <td>CO</td>\n",
       "      <td>4.0</td>\n",
       "      <td>86</td>\n",
       "      <td>{'RestaurantsTableService': 'True', 'WiFi': \"u...</td>\n",
       "      <td>Gastropubs, Food, Beer Gardens, Restaurants, B...</td>\n",
       "    </tr>\n",
       "    <tr>\n",
       "      <th>1</th>\n",
       "      <td>tCbdrRPZA0oiIYSmHG3J0w</td>\n",
       "      <td>Flying Elephants at PDX</td>\n",
       "      <td>Portland</td>\n",
       "      <td>OR</td>\n",
       "      <td>4.0</td>\n",
       "      <td>126</td>\n",
       "      <td>{'RestaurantsTakeOut': 'True', 'RestaurantsAtt...</td>\n",
       "      <td>Salad, Soup, Sandwiches, Delis, Restaurants, C...</td>\n",
       "    </tr>\n",
       "    <tr>\n",
       "      <th>2</th>\n",
       "      <td>bvN78flM8NLprQ1a1y5dRg</td>\n",
       "      <td>The Reclaimory</td>\n",
       "      <td>Portland</td>\n",
       "      <td>OR</td>\n",
       "      <td>4.5</td>\n",
       "      <td>13</td>\n",
       "      <td>{'BusinessAcceptsCreditCards': 'True', 'Restau...</td>\n",
       "      <td>Antiques, Fashion, Used, Vintage &amp; Consignment...</td>\n",
       "    </tr>\n",
       "    <tr>\n",
       "      <th>3</th>\n",
       "      <td>oaepsyvc0J17qwi8cfrOWg</td>\n",
       "      <td>Great Clips</td>\n",
       "      <td>Orange City</td>\n",
       "      <td>FL</td>\n",
       "      <td>3.0</td>\n",
       "      <td>8</td>\n",
       "      <td>{'RestaurantsPriceRange2': '1', 'BusinessAccep...</td>\n",
       "      <td>Beauty &amp; Spas, Hair Salons</td>\n",
       "    </tr>\n",
       "    <tr>\n",
       "      <th>4</th>\n",
       "      <td>PE9uqAjdw0E4-8mjGl3wVA</td>\n",
       "      <td>Crossfit Terminus</td>\n",
       "      <td>Atlanta</td>\n",
       "      <td>GA</td>\n",
       "      <td>4.0</td>\n",
       "      <td>14</td>\n",
       "      <td>{'GoodForKids': 'False', 'BusinessParking': \"{...</td>\n",
       "      <td>Gyms, Active Life, Interval Training Gyms, Fit...</td>\n",
       "    </tr>\n",
       "  </tbody>\n",
       "</table>\n",
       "</div>"
      ],
      "text/plain": [
       "              business_id                     name         city state  stars  \\\n",
       "0  6iYb2HFDywm3zjuRg0shjw      Oskar Blues Taproom      Boulder    CO    4.0   \n",
       "1  tCbdrRPZA0oiIYSmHG3J0w  Flying Elephants at PDX     Portland    OR    4.0   \n",
       "2  bvN78flM8NLprQ1a1y5dRg           The Reclaimory     Portland    OR    4.5   \n",
       "3  oaepsyvc0J17qwi8cfrOWg              Great Clips  Orange City    FL    3.0   \n",
       "4  PE9uqAjdw0E4-8mjGl3wVA        Crossfit Terminus      Atlanta    GA    4.0   \n",
       "\n",
       "   review_count                                         attributes  \\\n",
       "0            86  {'RestaurantsTableService': 'True', 'WiFi': \"u...   \n",
       "1           126  {'RestaurantsTakeOut': 'True', 'RestaurantsAtt...   \n",
       "2            13  {'BusinessAcceptsCreditCards': 'True', 'Restau...   \n",
       "3             8  {'RestaurantsPriceRange2': '1', 'BusinessAccep...   \n",
       "4            14  {'GoodForKids': 'False', 'BusinessParking': \"{...   \n",
       "\n",
       "                                          categories  \n",
       "0  Gastropubs, Food, Beer Gardens, Restaurants, B...  \n",
       "1  Salad, Soup, Sandwiches, Delis, Restaurants, C...  \n",
       "2  Antiques, Fashion, Used, Vintage & Consignment...  \n",
       "3                         Beauty & Spas, Hair Salons  \n",
       "4  Gyms, Active Life, Interval Training Gyms, Fit...  "
      ]
     },
     "execution_count": 4,
     "metadata": {},
     "output_type": "execute_result"
    }
   ],
   "source": [
    "businessCSV.head()"
   ]
  },
  {
   "cell_type": "code",
   "execution_count": null,
   "metadata": {},
   "outputs": [],
   "source": []
  },
  {
   "cell_type": "code",
   "execution_count": 11,
   "metadata": {},
   "outputs": [
    {
     "data": {
      "text/plain": [
       "<matplotlib.axes._subplots.AxesSubplot at 0x1986b1eee48>"
      ]
     },
     "execution_count": 11,
     "metadata": {},
     "output_type": "execute_result"
    },
    {
     "data": {
      "image/png": "[encoded data removed]",
      "text/plain": [
       "<Figure size 432x288 with 1 Axes>"
      ]
     },
     "metadata": {
      "needs_background": "light"
     },
     "output_type": "display_data"
    }
   ],
   "source": [
    "#my own simple bar graph\n",
    "\n",
    "x = businessCSV['stars'].value_counts()\n",
    "x = x.sort_index()\n",
    "\n",
    "sns.barplot(x = x.index, \n",
    "            y = x.values)"
   ]
  },
  {
   "cell_type": "code",
   "execution_count": 12,
   "metadata": {},
   "outputs": [
    {
     "data": {
      "text/plain": [
       "<matplotlib.axes._subplots.AxesSubplot at 0x1986b1eca88>"
      ]
     },
     "execution_count": 12,
     "metadata": {},
     "output_type": "execute_result"
    },
    {
     "data": {
      "image/png": "[encoded data removed]",
      "text/plain": [
       "<Figure size 432x288 with 1 Axes>"
      ]
     },
     "metadata": {
      "needs_background": "light"
     },
     "output_type": "display_data"
    }
   ],
   "source": [
    "sns.distplot(businessCSV.stars,kde=True,hist=True)"
   ]
  },
  {
   "cell_type": "code",
   "execution_count": null,
   "metadata": {},
   "outputs": [],
   "source": []
  },
  {
   "cell_type": "code",
   "execution_count": 13,
   "metadata": {},
   "outputs": [
    {
     "data": {
      "text/plain": [
       "Text(0.5, 0, 'City')"
      ]
     },
     "execution_count": 13,
     "metadata": {},
     "output_type": "execute_result"
    },
    {
     "data": {
      "image/png": "[encoded data removed]",
      "text/plain": [
       "<Figure size 1152x288 with 1 Axes>"
      ]
     },
     "metadata": {
      "needs_background": "light"
     },
     "output_type": "display_data"
    }
   ],
   "source": [
    "# Bar graph of cities with highest number of reviews. \n",
    "\n",
    "x = businessCSV['city'].value_counts()\n",
    "x = x.sort_values(ascending=False)\n",
    "x = x.iloc[0:20]\n",
    "plt.figure(figsize=(16,4))\n",
    "ax = sns.barplot(x.index, x.values, alpha=0.8)\n",
    "plt.title(\"Which city has the most reviews?\")\n",
    "locs, labels = plt.xticks()\n",
    "plt.setp(labels, rotation=45)\n",
    "plt.ylabel('# businesses', fontsize=12)\n",
    "plt.xlabel('City', fontsize=12)"
   ]
  },
  {
   "cell_type": "code",
   "execution_count": null,
   "metadata": {},
   "outputs": [],
   "source": []
  },
  {
   "cell_type": "code",
   "execution_count": null,
   "metadata": {},
   "outputs": [],
   "source": []
  },
  {
   "cell_type": "code",
   "execution_count": null,
   "metadata": {
    "scrolled": true
   },
   "outputs": [],
   "source": []
  },
  {
   "cell_type": "code",
   "execution_count": null,
   "metadata": {},
   "outputs": [],
   "source": []
  },
  {
   "cell_type": "code",
   "execution_count": null,
   "metadata": {},
   "outputs": [],
   "source": []
  }
 ],
 "metadata": {
  "kernelspec": {
   "display_name": "Python 3",
   "language": "python",
   "name": "python3"
  },
  "language_info": {
   "codemirror_mode": {
    "name": "ipython",
    "version": 3
   },
   "file_extension": ".py",
   "mimetype": "text/x-python",
   "name": "python",
   "nbconvert_exporter": "python",
   "pygments_lexer": "ipython3",
   "version": "3.7.6"
  }
 },
 "nbformat": 4,
 "nbformat_minor": 4
}
